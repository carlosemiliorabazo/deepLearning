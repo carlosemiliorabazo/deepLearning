{
  "nbformat": 4,
  "nbformat_minor": 0,
  "metadata": {
    "colab": {
      "provenance": [],
      "authorship_tag": "ABX9TyPVZRQKdiWrYLNe7gFsrW3T",
      "include_colab_link": true
    },
    "kernelspec": {
      "name": "python3",
      "display_name": "Python 3"
    },
    "language_info": {
      "name": "python"
    }
  },
  "cells": [
    {
      "cell_type": "markdown",
      "metadata": {
        "id": "view-in-github",
        "colab_type": "text"
      },
      "source": [
        "<a href=\"https://colab.research.google.com/github/carlosemiliorabazo/deepLearning/blob/master/Asociador_Lineal.ipynb\" target=\"_parent\"><img src=\"https://colab.research.google.com/assets/colab-badge.svg\" alt=\"Open In Colab\"/></a>"
      ]
    },
    {
      "cell_type": "code",
      "execution_count": 1,
      "metadata": {
        "id": "mTpWY84shXlx"
      },
      "outputs": [],
      "source": [
        "# Librerías a utilizar\n",
        "import numpy as np\n",
        "import matplotlib.pyplot as plt"
      ]
    },
    {
      "cell_type": "code",
      "source": [
        "W = np.array([[-0.9, 0.2],[-0.2,-0.6],[-0.7,0.3]]) \n",
        "x = np.array([1,1])\n",
        "y = np.array([1,0,1])\n",
        "epsilon = 0.1"
      ],
      "metadata": {
        "id": "kMATX1cRh4Xv"
      },
      "execution_count": 2,
      "outputs": []
    },
    {
      "cell_type": "code",
      "source": [
        "escalon = np.vectorize(lambda x: 0 if(x<0) else 1) \n",
        "relu = np.vectorize(lambda x: max(0,x))\n",
        "tanh = np.tanh"
      ],
      "metadata": {
        "id": "KnTe43XkiJUp"
      },
      "execution_count": 3,
      "outputs": []
    },
    {
      "cell_type": "code",
      "source": [
        "mse = lambda y,_y: np.mean((y-_y)**2)"
      ],
      "metadata": {
        "id": "TehBUbGIif47"
      },
      "execution_count": 4,
      "outputs": []
    },
    {
      "cell_type": "code",
      "source": [
        "itr = 3 # No iteraciones"
      ],
      "metadata": {
        "id": "6XS6OXIHijSJ"
      },
      "execution_count": 5,
      "outputs": []
    },
    {
      "cell_type": "code",
      "source": [
        "def training_step(i,W,x,y,f,display): \n",
        "  z = np.matmul(W,x)\n",
        "  _y = f(z)\n",
        "  err_abierto = mse(z,y) \n",
        "  err_TFA = mse(_y,y)\n",
        "  if display:\n",
        "    print(f\"\\n[{i+1}/{itr}] --- Error Abierto: {err_abierto} Error TFA: {err_TFA}\") \n",
        "    print(f\"W: \\n{W} \\n_y: {_y} z: {z}\")\n",
        "  return err_abierto, err_TFA\n",
        "\n",
        "def training(itr,W,x,y,f,display): \n",
        "  err = []\n",
        "  for i in range(itr):\n",
        "    err_abierto, err_TFA = training_step(i,W,x,y,f,display) \n",
        "    err.append(err_TFA)\n",
        "    # Regla Hebbiana: Wnew = W + ΔW\n",
        "    delta_W = epsilon * np.array([x]*len(y)) * np.transpose(np.array([y]*len(x))) \n",
        "    Wnew = W + delta_W\n",
        "    W = Wnew\n",
        "  return W,err"
      ],
      "metadata": {
        "id": "G4SbPluoiu5Y"
      },
      "execution_count": 6,
      "outputs": []
    },
    {
      "cell_type": "code",
      "source": [
        "t = training(itr,W,x,y,escalon,True) \n",
        "print(f\"\\nMatriz de pesos final: \\n{t[0]}\")"
      ],
      "metadata": {
        "colab": {
          "base_uri": "https://localhost:8080/"
        },
        "id": "iLqngDoXkKkC",
        "outputId": "80496efb-0dff-41a1-cb15-cc7aa2b1b0fe"
      },
      "execution_count": 7,
      "outputs": [
        {
          "output_type": "stream",
          "name": "stdout",
          "text": [
            "\n",
            "[1/3] --- Error Abierto: 1.8299999999999998 Error TFA: 0.6666666666666666\n",
            "W: \n",
            "[[-0.9  0.2]\n",
            " [-0.2 -0.6]\n",
            " [-0.7  0.3]] \n",
            "_y: [0 0 0] z: [-0.7 -0.8 -0.4]\n",
            "\n",
            "[2/3] --- Error Abierto: 1.4433333333333334 Error TFA: 0.6666666666666666\n",
            "W: \n",
            "[[-0.8  0.3]\n",
            " [-0.2 -0.6]\n",
            " [-0.6  0.4]] \n",
            "_y: [0 0 0] z: [-0.5 -0.8 -0.2]\n",
            "\n",
            "[3/3] --- Error Abierto: 1.11 Error TFA: 0.3333333333333333\n",
            "W: \n",
            "[[-0.7  0.4]\n",
            " [-0.2 -0.6]\n",
            " [-0.5  0.5]] \n",
            "_y: [0 0 1] z: [-0.3 -0.8  0. ]\n",
            "\n",
            "Matriz de pesos final: \n",
            "[[-0.6  0.5]\n",
            " [-0.2 -0.6]\n",
            " [-0.4  0.6]]\n"
          ]
        }
      ]
    },
    {
      "cell_type": "code",
      "source": [
        "training(itr,W,x,y,relu,True)\n",
        "print(f\"\\nMatriz de pesos final: \\n{t[0]}\")"
      ],
      "metadata": {
        "colab": {
          "base_uri": "https://localhost:8080/"
        },
        "id": "fGhz5HVNkSrA",
        "outputId": "b402c62d-5626-4c7c-99d7-b46bd54e19fa"
      },
      "execution_count": 8,
      "outputs": [
        {
          "output_type": "stream",
          "name": "stdout",
          "text": [
            "\n",
            "[1/3] --- Error Abierto: 1.8299999999999998 Error TFA: 0.6666666666666666\n",
            "W: \n",
            "[[-0.9  0.2]\n",
            " [-0.2 -0.6]\n",
            " [-0.7  0.3]] \n",
            "_y: [0 0 0] z: [-0.7 -0.8 -0.4]\n",
            "\n",
            "[2/3] --- Error Abierto: 1.4433333333333334 Error TFA: 0.6666666666666666\n",
            "W: \n",
            "[[-0.8  0.3]\n",
            " [-0.2 -0.6]\n",
            " [-0.6  0.4]] \n",
            "_y: [0 0 0] z: [-0.5 -0.8 -0.2]\n",
            "\n",
            "[3/3] --- Error Abierto: 1.11 Error TFA: 0.6666666666666666\n",
            "W: \n",
            "[[-0.7  0.4]\n",
            " [-0.2 -0.6]\n",
            " [-0.5  0.5]] \n",
            "_y: [0 0 0] z: [-0.3 -0.8  0. ]\n",
            "\n",
            "Matriz de pesos final: \n",
            "[[-0.6  0.5]\n",
            " [-0.2 -0.6]\n",
            " [-0.4  0.6]]\n"
          ]
        }
      ]
    },
    {
      "cell_type": "code",
      "source": [
        " training(itr,W,x,y,tanh,True) \n",
        " print(f\"\\nMatriz de pesos final: \\n{t[0]}\")"
      ],
      "metadata": {
        "colab": {
          "base_uri": "https://localhost:8080/"
        },
        "id": "BP2iuRshkdIk",
        "outputId": "c51be0d0-a9d1-49bc-db8d-6c44b11aa43e"
      },
      "execution_count": 9,
      "outputs": [
        {
          "output_type": "stream",
          "name": "stdout",
          "text": [
            "\n",
            "[1/3] --- Error Abierto: 1.8299999999999998 Error TFA: 1.6397333116496322\n",
            "W: \n",
            "[[-0.9  0.2]\n",
            " [-0.2 -0.6]\n",
            " [-0.7  0.3]] \n",
            "_y: [-0.60436778 -0.66403677 -0.37994896] z: [-0.7 -0.8 -0.4]\n",
            "\n",
            "[2/3] --- Error Abierto: 1.4433333333333334 Error TFA: 1.33747969043518\n",
            "W: \n",
            "[[-0.8  0.3]\n",
            " [-0.2 -0.6]\n",
            " [-0.6  0.4]] \n",
            "_y: [-0.46211716 -0.66403677 -0.19737532] z: [-0.5 -0.8 -0.2]\n",
            "\n",
            "[3/3] --- Error Abierto: 1.11 Error TFA: 1.0361443651147695\n",
            "W: \n",
            "[[-0.7  0.4]\n",
            " [-0.2 -0.6]\n",
            " [-0.5  0.5]] \n",
            "_y: [-0.29131261 -0.66403677  0.        ] z: [-0.3 -0.8  0. ]\n",
            "\n",
            "Matriz de pesos final: \n",
            "[[-0.6  0.5]\n",
            " [-0.2 -0.6]\n",
            " [-0.4  0.6]]\n"
          ]
        }
      ]
    },
    {
      "cell_type": "code",
      "source": [
        "i = list(range(1,21))\n",
        "\n",
        "# Calculo los errores para 20 iteraciones y el error mínimo\n",
        "err_escalon = training(20,W,x,y,escalon,False)[1] \n",
        "min_escalon = min(err_escalon)\n",
        "err_relu = training(20,W,x,y,relu,False)[1] \n",
        "min_relu = min(err_relu)\n",
        "err_tanh = training(20,W,x,y,tanh,False)[1] \n",
        "min_tanh = min(err_tanh)\n",
        "\n",
        "# Grafico los errores obtenidos\n",
        "plt.plot(i,err_escalon)\n",
        "plt.plot(i,err_relu)\n",
        "plt.plot(i,err_tanh)\n",
        "plt.legend([\"Escalon\",\"ReLU\",\"Tanh\",min_escalon, min_relu, min_tanh]) \n",
        "plt.ylim([-0.1,2])\n",
        "_ = plt.xticks(i)\n",
        "\n",
        "# Añado los mínimos en forma de puntos\n",
        "plt.scatter(err_escalon.index(min_escalon)+1,min_escalon) \n",
        "plt.annotate(round(min_escalon,3), (err_escalon.index(min_escalon)+1,min_escalon)) \n",
        "plt.scatter(err_relu.index(min_relu)+1,min_relu)\n",
        "plt.annotate(round(min_relu,3), (err_relu.index(min_relu)+1,min_relu)) \n",
        "plt.scatter(err_tanh.index(min_tanh)+1,min_tanh)\n",
        "plt.annotate(round(min_tanh,3), (err_tanh.index(min_tanh)+1,min_tanh))"
      ],
      "metadata": {
        "colab": {
          "base_uri": "https://localhost:8080/",
          "height": 286
        },
        "id": "Nd0YrINAkmMy",
        "outputId": "8e353bc4-c707-4293-a293-352f56dced76"
      },
      "execution_count": 10,
      "outputs": [
        {
          "output_type": "execute_result",
          "data": {
            "text/plain": [
              "Text(20, 0.146988730301389, '0.147')"
            ]
          },
          "metadata": {},
          "execution_count": 10
        },
        {
          "output_type": "display_data",
          "data": {
            "text/plain": [
              "<Figure size 432x288 with 1 Axes>"
            ],
            "image/png": "[encoded data removed]"
          },
          "metadata": {
            "needs_background": "light"
          }
        }
      ]
    }
  ]
}